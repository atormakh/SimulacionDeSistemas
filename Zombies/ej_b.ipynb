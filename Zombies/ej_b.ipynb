{
 "cells": [
  {
   "cell_type": "code",
   "execution_count": null,
   "metadata": {},
   "outputs": [],
   "source": [
    "import data_import\n",
    "import os\n",
    "import matplotlib.pyplot as plt\n",
    "import numpy as np\n",
    "import pickle\n",
    "from scipy.ndimage.filters import gaussian_filter\n",
    "\n",
    "\n",
    "plt.rcParams.update({'font.size': 20})\n",
    "plt.rc('figure', figsize=(20, 10))"
   ]
  },
  {
   "cell_type": "code",
   "execution_count": null,
   "metadata": {},
   "outputs": [],
   "source": [
    "def exec(dt=1e-2, output_dt=1e-1, tf=60*3, vz=3, nh = 10):\n",
    "\n",
    "    command = f\"java -cp target/Zombies-1.0.jar \\\n",
    "                -Ddt={dt} -DoutputDt={output_dt} -Dtf={tf} \\\n",
    "                -Dvz={vz} -Dnh={nh} \\\n",
    "                Main\"\n",
    "    proc = os.popen(command)\n",
    "    proc.readlines()\n",
    "    proc.close()\n",
    "    data = data_import.Data(\"zombies.txt\")\n",
    "    return data"
   ]
  },
  {
   "cell_type": "code",
   "execution_count": null,
   "metadata": {},
   "outputs": [],
   "source": [
    "results_b = {}\n",
    "nh = [2, 10, 40, 80, 140, 200, 260, 320]\n",
    "iterations = 10\n",
    "\n",
    "if os.path.isfile(\"results_b.pickle\"):\n",
    "    results_b = pickle.load(open(\"results_b.pickle\", \"rb\"))\n",
    "else:\n",
    "\n",
    "\n",
    "    for n in nh:\n",
    "        res_iterations = {}\n",
    "        for iteration in range(iterations):\n",
    "            data = exec(nh=n, dt=1e-2, output_dt=1)\n",
    "            time = []\n",
    "            zcount = []\n",
    "            res = {}\n",
    "            for t, z, h, data in data:\n",
    "                time.append(t)\n",
    "                zcount.append(z)\n",
    "            res[\"time\"] = time\n",
    "            res[\"zcount\"] = zcount\n",
    "            res_iterations[iteration] = res\n",
    "        results_b[n] = res_iterations\n",
    "            \n",
    "\n"
   ]
  },
  {
   "cell_type": "code",
   "execution_count": null,
   "metadata": {},
   "outputs": [],
   "source": [
    "iteration = 1\n",
    "for n in reversed(nh):\n",
    "    y = np.array(results_b[n][iteration][\"zcount\"])/(n+1)\n",
    "    #if(y[0] == y[-1]): continue\n",
    "    y = gaussian_filter(y, sigma=3)\n",
    "    plt.plot(results_b[n][iteration][\"time\"], y , label=f\"{n} humanos\")\n",
    "plt.legend()\n",
    "plt.xlabel(\"Tiempo (s)\")\n",
    "plt.ylabel(\"Fraccion de zombies (z/N)\")\n",
    "plt.show()"
   ]
  },
  {
   "cell_type": "code",
   "execution_count": null,
   "metadata": {},
   "outputs": [],
   "source": [
    "sigma = 3\n",
    "iter = 5\n",
    "for n in reversed(nh):\n",
    "    y = np.array(results_b[n][iter][\"zcount\"])\n",
    "   # if y[0] == y[-1]: continue\n",
    "    y = gaussian_filter(y, sigma, order=1, mode='nearest')\n",
    "    #y = np.diff(results_b[n][iter][\"zcount\"], prepend=1)\n",
    "    dt = results_b[n][iter][\"time\"][1] - results_b[n][iter][\"time\"][0]\n",
    "    y = np.array(y)/dt\n",
    "    plt.plot(results_b[n][iter][\"time\"], y, label=f\"{n} humanos\")\n",
    "plt.legend()\n",
    "plt.ylabel(\"Velocidad de contagio (z/s)\")\n",
    "plt.xlabel(\"Tiempo (s)\")\n",
    "plt.show()\n"
   ]
  },
  {
   "cell_type": "code",
   "execution_count": null,
   "metadata": {},
   "outputs": [],
   "source": [
    "means = []\n",
    "errors = []\n",
    "for n in nh:\n",
    "    values = []\n",
    "    for iteration in range(iterations):\n",
    "        delta = results_b[n][iteration][\"time\"][1]-results_b[n][iteration][\"time\"][0]\n",
    "        dif =np.diff(results_b[n][iteration][\"zcount\"])/delta\n",
    "        values.append(np.mean(dif))\n",
    "    means.append(np.mean(values))\n",
    "    errors.append(np.std(values))\n",
    "plt.errorbar(nh, means, yerr=errors, fmt=\"o-\", capsize=10)\n",
    "plt.xlabel(\"Numero de humanos\")\n",
    "plt.ylabel(\"Velocidad de contagio media(z/s)\")\n",
    "plt.grid()\n",
    "plt.xticks(nh)\n",
    "plt.show()"
   ]
  },
  {
   "cell_type": "code",
   "execution_count": null,
   "metadata": {},
   "outputs": [],
   "source": [
    "means = []\n",
    "errors = []\n",
    "percentage = 100\n",
    "for n in nh:\n",
    "    values = []\n",
    "    for iteration in range(iterations):\n",
    "        time = 0\n",
    "        count = results_b[n][iteration][\"zcount\"]\n",
    "        times = results_b[n][iteration][\"time\"]\n",
    "        for t, z in zip(times,count):\n",
    "            if z/n > percentage/100:\n",
    "                time = t\n",
    "                break\n",
    "        \n",
    "        values.append(t)\n",
    "    means.append(np.mean(values))\n",
    "    errors.append(np.std(values)/np.sqrt(len(values)))\n",
    "plt.errorbar(nh, means, yerr=errors, fmt=\"o-\", capsize=10)\n",
    "plt.xlabel(\"Numero de humanos\")\n",
    "plt.ylabel(f\"Tiempo hasta Fz de {percentage}% (s)\")\n",
    "plt.grid()\n",
    "plt.xticks(nh)\n",
    "plt.show()"
   ]
  },
  {
   "cell_type": "code",
   "execution_count": null,
   "metadata": {},
   "outputs": [],
   "source": [
    "pickle.dump(results_b, open(\"results_b.pickle\", \"wb\"))"
   ]
  }
 ],
 "metadata": {
  "interpreter": {
   "hash": "2d29ebfccc8720c7af6a3904700025ad5d0c8b3d83966a6f815f6121fa8ecb68"
  },
  "kernelspec": {
   "display_name": "Python 3.10.2 ('venv': venv)",
   "language": "python",
   "name": "python3"
  },
  "language_info": {
   "codemirror_mode": {
    "name": "ipython",
    "version": 3
   },
   "file_extension": ".py",
   "mimetype": "text/x-python",
   "name": "python",
   "nbconvert_exporter": "python",
   "pygments_lexer": "ipython3",
   "version": "3.10.2"
  },
  "orig_nbformat": 4
 },
 "nbformat": 4,
 "nbformat_minor": 2
}
