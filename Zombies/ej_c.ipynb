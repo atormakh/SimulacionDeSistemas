{
 "cells": [
  {
   "cell_type": "code",
   "execution_count": null,
   "metadata": {},
   "outputs": [],
   "source": [
    "import data_import\n",
    "import os\n",
    "import matplotlib.pyplot as plt\n",
    "import numpy as np\n",
    "import pickle\n",
    "from scipy.ndimage.filters import gaussian_filter\n",
    "\n",
    "\n",
    "plt.rcParams.update({'font.size': 20})\n",
    "plt.rc('figure', figsize=(20, 10))"
   ]
  },
  {
   "cell_type": "code",
   "execution_count": null,
   "metadata": {},
   "outputs": [],
   "source": [
    "def exec(dt=1e-2, output_dt=1e-1, tf=60*3, vz=3, nh = 10):\n",
    "\n",
    "    command = f\"java -cp target/Zombies-1.0.jar \\\n",
    "                -Ddt={dt} -DoutputDt={output_dt} -Dtf={tf} \\\n",
    "                -Dvz={vz} -Dnh={nh} \\\n",
    "                Main\"\n",
    "    proc = os.popen(command)\n",
    "    proc.readlines()\n",
    "    proc.close()\n",
    "    data = data_import.Data(\"zombies.txt\")\n",
    "    return data"
   ]
  },
  {
   "cell_type": "code",
   "execution_count": null,
   "metadata": {},
   "outputs": [],
   "source": [
    "results_c = {}\n",
    "vz = np.arange(1,6,0.5)\n",
    "iterations = 10\n",
    "NH = 140\n",
    "\n",
    "if os.path.isfile(\"results_c.pickle\"):\n",
    "    results_c = pickle.load(open(\"results_c.pickle\", \"rb\"))\n",
    "else:\n",
    "\n",
    "\n",
    "    for v in vz:\n",
    "        res_iterations = {}\n",
    "        for iteration in range(iterations):\n",
    "            data = exec(nh=NH, dt=1e-2, output_dt=1,vz=v)\n",
    "            time = []\n",
    "            zcount = []\n",
    "            res = {}\n",
    "            for t, z, h, data in data:\n",
    "                time.append(t)\n",
    "                zcount.append(z)\n",
    "            res[\"time\"] = time\n",
    "            res[\"zcount\"] = zcount\n",
    "            res_iterations[iteration] = res\n",
    "        results_c[v] = res_iterations\n",
    "            \n",
    "\n"
   ]
  },
  {
   "cell_type": "code",
   "execution_count": null,
   "metadata": {},
   "outputs": [],
   "source": [
    "iteration = 0\n",
    "for v in vz:\n",
    "    y = results_c[v][iteration][\"zcount\"]\n",
    "    #if y[0] == y[-1]: continue\n",
    "    y = gaussian_filter(y, sigma=3)/NH\n",
    "    plt.plot(results_c[v][iteration][\"time\"], y, label=f\"{v} Vdz\")\n",
    "plt.legend()\n",
    "plt.xlabel(\"Tiempo (s)\")\n",
    "plt.ylabel(\"Fraccion de zombies\")\n",
    "plt.show()"
   ]
  },
  {
   "cell_type": "code",
   "execution_count": null,
   "metadata": {},
   "outputs": [],
   "source": [
    "sigma = 5\n",
    "iter=0\n",
    "for v in vz:\n",
    "    y = results_c[v][iter][\"zcount\"]\n",
    "    #if y[0] == y[-1]: continue\n",
    "    y = gaussian_filter(results_c[v][iter][\"zcount\"], sigma=sigma, order=1, mode=\"nearest\")\n",
    "    dt = results_c[v][iter][\"time\"][1] - results_c[v][iter][\"time\"][0]\n",
    "    y = np.array(y)/dt\n",
    "    plt.plot(results_c[v][iter][\"time\"], y, label=f\"{v} Vdz\")\n",
    "plt.legend()\n",
    "plt.ylabel(\"Velocidad de Contagio (z/s)\")\n",
    "plt.xlabel(\"Tiempo (s)\")\n",
    "plt.show()\n"
   ]
  },
  {
   "cell_type": "code",
   "execution_count": null,
   "metadata": {},
   "outputs": [],
   "source": [
    "means = []\n",
    "errors = []\n",
    "for v in vz:\n",
    "    values = []\n",
    "    for iteration in range(iterations):\n",
    "        delta = results_c[v][iteration][\"time\"][1]-results_c[v][iteration][\"time\"][0]\n",
    "        dif =np.diff(results_c[v][iteration][\"zcount\"])/delta\n",
    "        \n",
    "        values.append(np.mean(dif))\n",
    "    means.append(np.mean(values))\n",
    "    errors.append(np.std(values))\n",
    "plt.errorbar(vz, means, yerr=errors, fmt=\"o-\", capsize=10)\n",
    "plt.xlabel(\"Vdz\")\n",
    "plt.ylabel(\"Velocidad de contagio (z/s)\")\n",
    "plt.xticks(vz)\n",
    "plt.grid()\n",
    "plt.show()"
   ]
  },
  {
   "cell_type": "code",
   "execution_count": null,
   "metadata": {},
   "outputs": [],
   "source": [
    "means = []\n",
    "errors = []\n",
    "percentage = 100\n",
    "for v in vz:\n",
    "    values = []\n",
    "    for iteration in range(iterations):\n",
    "        time = 0\n",
    "        count = results_c[v][iteration][\"zcount\"]\n",
    "        times = results_c[v][iteration][\"time\"]\n",
    "        for t, z in zip(times,count):\n",
    "            if z/NH > percentage/100:\n",
    "                time = t\n",
    "                break\n",
    "        \n",
    "        values.append(t)\n",
    "    means.append(np.mean(values))\n",
    "    errors.append(np.std(values)/np.sqrt(len(values)))\n",
    "plt.errorbar(vz, means, yerr=errors, fmt=\"o-\")\n",
    "plt.xlabel(\"Vdz\")\n",
    "plt.ylabel(f\"Tiempo hasta Fz {percentage}% (s)\")\n",
    "plt.xticks(vz)\n",
    "plt.grid()\n",
    "plt.show()"
   ]
  },
  {
   "cell_type": "code",
   "execution_count": null,
   "metadata": {},
   "outputs": [],
   "source": [
    "pickle.dump(results_c, open(\"results_c.pickle\", \"wb\"))"
   ]
  }
 ],
 "metadata": {
  "interpreter": {
   "hash": "2d29ebfccc8720c7af6a3904700025ad5d0c8b3d83966a6f815f6121fa8ecb68"
  },
  "kernelspec": {
   "display_name": "Python 3.10.2 ('venv': venv)",
   "language": "python",
   "name": "python3"
  },
  "language_info": {
   "codemirror_mode": {
    "name": "ipython",
    "version": 3
   },
   "file_extension": ".py",
   "mimetype": "text/x-python",
   "name": "python",
   "nbconvert_exporter": "python",
   "pygments_lexer": "ipython3",
   "version": "3.10.2"
  },
  "orig_nbformat": 4
 },
 "nbformat": 4,
 "nbformat_minor": 2
}
