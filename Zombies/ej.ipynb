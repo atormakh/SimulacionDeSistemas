{
 "cells": [
  {
   "cell_type": "code",
   "execution_count": 16,
   "metadata": {},
   "outputs": [],
   "source": [
    "import data_import\n",
    "import os\n",
    "import matplotlib.pyplot as plt\n",
    "import numpy as np\n"
   ]
  },
  {
   "cell_type": "code",
   "execution_count": 17,
   "metadata": {},
   "outputs": [],
   "source": [
    "# 3.2 pico seconds for particle to travel L\n",
    "def exec(dt=1e-3, output_dt=1e-2, tf=60*5, vz=2, nh = 10):\n",
    "\n",
    "    command = f\"java -cp target/Zombies-1.0.jar \\\n",
    "                -Ddt={dt} -DoutputDt={output_dt} -Dtf={tf} \\\n",
    "                -Dvz={vz} -Dnh={nh} \\\n",
    "                Main\"\n",
    "    proc = os.popen(command)\n",
    "    proc.readlines()\n",
    "    proc.close()\n",
    "    data = data_import.Data(\"zombies.txt\")\n",
    "    return data"
   ]
  },
  {
   "cell_type": "code",
   "execution_count": 18,
   "metadata": {},
   "outputs": [
    {
     "ename": "ValueError",
     "evalue": "too many values to unpack (expected 3)",
     "output_type": "error",
     "traceback": [
      "\u001b[0;31m---------------------------------------------------------------------------\u001b[0m",
      "\u001b[0;31mValueError\u001b[0m                                Traceback (most recent call last)",
      "\u001b[1;32m/home/agus/Documents/ITBA/SS/simulacion_sistemas/Zombies/ej.ipynb Cell 3'\u001b[0m in \u001b[0;36m<cell line: 10>\u001b[0;34m()\u001b[0m\n\u001b[1;32m      <a href='vscode-notebook-cell:/home/agus/Documents/ITBA/SS/simulacion_sistemas/Zombies/ej.ipynb#ch0000002?line=6'>7</a>\u001b[0m contact_count \u001b[39m=\u001b[39m []\n\u001b[1;32m      <a href='vscode-notebook-cell:/home/agus/Documents/ITBA/SS/simulacion_sistemas/Zombies/ej.ipynb#ch0000002?line=7'>8</a>\u001b[0m contact_time \u001b[39m=\u001b[39m []\n\u001b[0;32m---> <a href='vscode-notebook-cell:/home/agus/Documents/ITBA/SS/simulacion_sistemas/Zombies/ej.ipynb#ch0000002?line=9'>10</a>\u001b[0m \u001b[39mfor\u001b[39;00m t, z,h , data \u001b[39min\u001b[39;00m data:\n\u001b[1;32m     <a href='vscode-notebook-cell:/home/agus/Documents/ITBA/SS/simulacion_sistemas/Zombies/ej.ipynb#ch0000002?line=10'>11</a>\u001b[0m     \u001b[39mif\u001b[39;00m \u001b[39mnot\u001b[39;00m zcount \u001b[39mor\u001b[39;00m zcount[\u001b[39m-\u001b[39m\u001b[39m1\u001b[39m] \u001b[39m!=\u001b[39m z:\n\u001b[1;32m     <a href='vscode-notebook-cell:/home/agus/Documents/ITBA/SS/simulacion_sistemas/Zombies/ej.ipynb#ch0000002?line=11'>12</a>\u001b[0m         contact_time\u001b[39m.\u001b[39mappend(t)\n",
      "File \u001b[0;32m~/Documents/ITBA/SS/simulacion_sistemas/Zombies/data_import.py:19\u001b[0m, in \u001b[0;36mData.__next__\u001b[0;34m(self)\u001b[0m\n\u001b[1;32m     <a href='file:///home/agus/Documents/ITBA/SS/simulacion_sistemas/Zombies/data_import.py?line=15'>16</a>\u001b[0m \u001b[39mif\u001b[39;00m \u001b[39mnot\u001b[39;00m header:\n\u001b[1;32m     <a href='file:///home/agus/Documents/ITBA/SS/simulacion_sistemas/Zombies/data_import.py?line=16'>17</a>\u001b[0m     \u001b[39mraise\u001b[39;00m \u001b[39mStopIteration\u001b[39;00m\n\u001b[0;32m---> <a href='file:///home/agus/Documents/ITBA/SS/simulacion_sistemas/Zombies/data_import.py?line=18'>19</a>\u001b[0m time, z, h \u001b[39m=\u001b[39m \u001b[39mmap\u001b[39m(\u001b[39mfloat\u001b[39m, parse(header))\n\u001b[1;32m     <a href='file:///home/agus/Documents/ITBA/SS/simulacion_sistemas/Zombies/data_import.py?line=19'>20</a>\u001b[0m \u001b[39m#time = float(header)\u001b[39;00m\n\u001b[1;32m     <a href='file:///home/agus/Documents/ITBA/SS/simulacion_sistemas/Zombies/data_import.py?line=20'>21</a>\u001b[0m data \u001b[39m=\u001b[39m []\n",
      "\u001b[0;31mValueError\u001b[0m: too many values to unpack (expected 3)"
     ]
    }
   ],
   "source": [
    "data = exec(nh=100, dt=1e-2, output_dt=1e-1)\n",
    "\n",
    "zcount = []\n",
    "hcount = []\n",
    "time = []\n",
    "\n",
    "contact_count = []\n",
    "contact_time = []\n",
    "\n",
    "for t, z,h , data in data:\n",
    "    if not zcount or zcount[-1] != z:\n",
    "        contact_time.append(t)\n",
    "        contact_count.append(z)\n",
    "\n",
    "    zcount.append(z)\n",
    "    hcount.append(h)\n",
    "    time.append(t)\n",
    "\n",
    "    \n",
    "\n",
    "plt.plot(time, zcount)\n",
    "plt.plot(time, hcount)\n",
    "\n",
    "\n",
    "plt.figure(\"spread\")\n",
    "spread = np.diff(contact_count, prepend=1)/np.diff(contact_time, prepend=0)\n",
    "plt.plot(contact_time, contact_count, label=\"contacts\")\n",
    "plt.plot(contact_time, spread, label=\"spread\")\n",
    "\n",
    "plt.legend()\n",
    "plt.show()\n",
    "\n"
   ]
  },
  {
   "cell_type": "code",
   "execution_count": null,
   "metadata": {},
   "outputs": [],
   "source": [
    "def rolling_mean(x, w):\n",
    "    data = []\n",
    "    for i in range(len(x)):\n",
    "        upper = int(min(i+w/2, len(x)))\n",
    "        lower = int(max(i-w/2, 0))\n",
    "        data.append(np.mean(x[lower:upper]))\n",
    "    return data"
   ]
  },
  {
   "cell_type": "code",
   "execution_count": null,
   "metadata": {},
   "outputs": [],
   "source": [
    "w = 20/(time[1] - time[0])\n",
    "plt.plot(time, rolling_mean(np.diff(zcount, prepend=1),w))\n",
    "\n",
    "plt.show()"
   ]
  },
  {
   "cell_type": "code",
   "execution_count": null,
   "metadata": {},
   "outputs": [],
   "source": []
  }
 ],
 "metadata": {
  "interpreter": {
   "hash": "916dbcbb3f70747c44a77c7bcd40155683ae19c65e1c03b4aa3499c5328201f1"
  },
  "kernelspec": {
   "display_name": "Python 3.8.10 64-bit",
   "language": "python",
   "name": "python3"
  },
  "language_info": {
   "codemirror_mode": {
    "name": "ipython",
    "version": 3
   },
   "file_extension": ".py",
   "mimetype": "text/x-python",
   "name": "python",
   "nbconvert_exporter": "python",
   "pygments_lexer": "ipython3",
   "version": "3.8.10"
  },
  "orig_nbformat": 4
 },
 "nbformat": 4,
 "nbformat_minor": 2
}
